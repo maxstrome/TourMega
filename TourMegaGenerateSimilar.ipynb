{
  "nbformat": 4,
  "nbformat_minor": 0,
  "metadata": {
    "colab": {
      "name": "TourMegaGenerateSimilar.ipynb",
      "provenance": [],
      "collapsed_sections": []
    },
    "kernelspec": {
      "name": "python3",
      "display_name": "Python 3"
    },
    "language_info": {
      "name": "python"
    }
  },
  "cells": [
    {
      "cell_type": "code",
      "metadata": {
        "id": "psUtwnm1yhRC",
        "colab": {
          "base_uri": "https://localhost:8080/"
        },
        "outputId": "d2d4814c-287e-47f2-a96e-9dc537073e8e"
      },
      "source": [
        "import pandas as pd\n",
        "import re\n",
        "import torch\n",
        "from transformers import T5ForConditionalGeneration,T5Tokenizer\n",
        "!pip install transformers\n",
        "!pip install sentencepiece"
      ],
      "execution_count": 3,
      "outputs": [
        {
          "output_type": "stream",
          "text": [
            "Collecting transformers\n",
            "\u001b[?25l  Downloading https://files.pythonhosted.org/packages/81/91/61d69d58a1af1bd81d9ca9d62c90a6de3ab80d77f27c5df65d9a2c1f5626/transformers-4.5.0-py3-none-any.whl (2.1MB)\n",
            "\u001b[K     |████████████████████████████████| 2.2MB 6.0MB/s \n",
            "\u001b[?25hRequirement already satisfied: tqdm>=4.27 in /usr/local/lib/python3.7/dist-packages (from transformers) (4.41.1)\n",
            "Requirement already satisfied: filelock in /usr/local/lib/python3.7/dist-packages (from transformers) (3.0.12)\n",
            "Requirement already satisfied: importlib-metadata; python_version < \"3.8\" in /usr/local/lib/python3.7/dist-packages (from transformers) (3.8.1)\n",
            "Requirement already satisfied: regex!=2019.12.17 in /usr/local/lib/python3.7/dist-packages (from transformers) (2019.12.20)\n",
            "Requirement already satisfied: packaging in /usr/local/lib/python3.7/dist-packages (from transformers) (20.9)\n",
            "Requirement already satisfied: numpy>=1.17 in /usr/local/lib/python3.7/dist-packages (from transformers) (1.19.5)\n",
            "Requirement already satisfied: requests in /usr/local/lib/python3.7/dist-packages (from transformers) (2.23.0)\n",
            "Collecting sacremoses\n",
            "\u001b[?25l  Downloading https://files.pythonhosted.org/packages/08/cd/342e584ee544d044fb573ae697404ce22ede086c9e87ce5960772084cad0/sacremoses-0.0.44.tar.gz (862kB)\n",
            "\u001b[K     |████████████████████████████████| 870kB 33.1MB/s \n",
            "\u001b[?25hCollecting tokenizers<0.11,>=0.10.1\n",
            "\u001b[?25l  Downloading https://files.pythonhosted.org/packages/ae/04/5b870f26a858552025a62f1649c20d29d2672c02ff3c3fb4c688ca46467a/tokenizers-0.10.2-cp37-cp37m-manylinux2010_x86_64.whl (3.3MB)\n",
            "\u001b[K     |████████████████████████████████| 3.3MB 42.5MB/s \n",
            "\u001b[?25hRequirement already satisfied: zipp>=0.5 in /usr/local/lib/python3.7/dist-packages (from importlib-metadata; python_version < \"3.8\"->transformers) (3.4.1)\n",
            "Requirement already satisfied: typing-extensions>=3.6.4; python_version < \"3.8\" in /usr/local/lib/python3.7/dist-packages (from importlib-metadata; python_version < \"3.8\"->transformers) (3.7.4.3)\n",
            "Requirement already satisfied: pyparsing>=2.0.2 in /usr/local/lib/python3.7/dist-packages (from packaging->transformers) (2.4.7)\n",
            "Requirement already satisfied: certifi>=2017.4.17 in /usr/local/lib/python3.7/dist-packages (from requests->transformers) (2020.12.5)\n",
            "Requirement already satisfied: urllib3!=1.25.0,!=1.25.1,<1.26,>=1.21.1 in /usr/local/lib/python3.7/dist-packages (from requests->transformers) (1.24.3)\n",
            "Requirement already satisfied: chardet<4,>=3.0.2 in /usr/local/lib/python3.7/dist-packages (from requests->transformers) (3.0.4)\n",
            "Requirement already satisfied: idna<3,>=2.5 in /usr/local/lib/python3.7/dist-packages (from requests->transformers) (2.10)\n",
            "Requirement already satisfied: six in /usr/local/lib/python3.7/dist-packages (from sacremoses->transformers) (1.15.0)\n",
            "Requirement already satisfied: click in /usr/local/lib/python3.7/dist-packages (from sacremoses->transformers) (7.1.2)\n",
            "Requirement already satisfied: joblib in /usr/local/lib/python3.7/dist-packages (from sacremoses->transformers) (1.0.1)\n",
            "Building wheels for collected packages: sacremoses\n",
            "  Building wheel for sacremoses (setup.py) ... \u001b[?25l\u001b[?25hdone\n",
            "  Created wheel for sacremoses: filename=sacremoses-0.0.44-cp37-none-any.whl size=886084 sha256=7b6a57eef5b21628d213b2b7406f42574be63e886840b6e457bceaf627e20a47\n",
            "  Stored in directory: /root/.cache/pip/wheels/3e/fb/c0/13ab4d63d537658f448366744654323077c4d90069b6512f3c\n",
            "Successfully built sacremoses\n",
            "Installing collected packages: sacremoses, tokenizers, transformers\n",
            "Successfully installed sacremoses-0.0.44 tokenizers-0.10.2 transformers-4.5.0\n"
          ],
          "name": "stdout"
        }
      ]
    },
    {
      "cell_type": "code",
      "metadata": {
        "id": "aJrDsLK8yJW2"
      },
      "source": [
        "def set_seed(seed):\n",
        "  torch.manual_seed(seed)\n",
        "  if torch.cuda.is_available():\n",
        "    torch.cuda.manual_seed_all(seed)\n",
        "\n",
        "set_seed(42)\n",
        "\n",
        "model = T5ForConditionalGeneration.from_pretrained('ramsrigouthamg/t5_paraphraser')\n",
        "tokenizer = T5Tokenizer.from_pretrained('ramsrigouthamg/t5_paraphraser')\n",
        "\n",
        "device = torch.device(\"cuda\" if torch.cuda.is_available() else \"cpu\")\n",
        "print (\"device \",device)\n",
        "model = model.to(device)"
      ],
      "execution_count": null,
      "outputs": []
    },
    {
      "cell_type": "code",
      "metadata": {
        "id": "81EwK4Pk0TGc"
      },
      "source": [
        "df = pd.read_csv(\"/content/TM Bot v1.0 - utterances.csv\")\n",
        "df = df[[\"Utterance\", \"Intent\"]]"
      ],
      "execution_count": 47,
      "outputs": []
    },
    {
      "cell_type": "code",
      "metadata": {
        "id": "O-dZ2SEe0cvV"
      },
      "source": [
        "sentences = df.dropna().values"
      ],
      "execution_count": 48,
      "outputs": []
    },
    {
      "cell_type": "code",
      "metadata": {
        "colab": {
          "base_uri": "https://localhost:8080/",
          "height": 35
        },
        "id": "c6pYLdfe1LN1",
        "outputId": "e4f2908c-c1ad-4a00-e573-547518a8f258"
      },
      "source": [
        "sentences[0, 0]"
      ],
      "execution_count": 54,
      "outputs": [
        {
          "output_type": "execute_result",
          "data": {
            "application/vnd.google.colaboratory.intrinsic+json": {
              "type": "string"
            },
            "text/plain": [
              "'i did not get any email confirmation and cannot log in to my account with <email>'"
            ]
          },
          "metadata": {
            "tags": []
          },
          "execution_count": 54
        }
      ]
    },
    {
      "cell_type": "code",
      "metadata": {
        "id": "hI8Ps-z5yhSv"
      },
      "source": [
        "def paraphrases(sentence):\n",
        "  text =  \"paraphrase: \" + sentence + \" </s>\"\n",
        "  max_len = 256\n",
        "\n",
        "  encoding = tokenizer.encode_plus(text,pad_to_max_length=True, return_tensors=\"pt\")\n",
        "  input_ids, attention_masks = encoding[\"input_ids\"].to(device), encoding[\"attention_mask\"].to(device)\n",
        "\n",
        "\n",
        "  # set top_k = 50 and set top_p = 0.95 and num_return_sequences = 3\n",
        "  beam_outputs = model.generate(\n",
        "      input_ids=input_ids, attention_mask=attention_masks,\n",
        "      do_sample=True,\n",
        "      max_length=256,\n",
        "      top_k=120,\n",
        "      top_p=0.98,\n",
        "      early_stopping=True,\n",
        "      num_return_sequences=4\n",
        "  )\n",
        "\n",
        "\n",
        "  final_outputs =[]\n",
        "  for beam_output in beam_outputs:\n",
        "      sent = tokenizer.decode(beam_output, skip_special_tokens=True,clean_up_tokenization_spaces=True)\n",
        "      if sent.lower() != sentence.lower() and sent not in final_outputs:\n",
        "          final_outputs.append(sent)\n",
        "\n",
        "  return final_outputs"
      ],
      "execution_count": 53,
      "outputs": []
    },
    {
      "cell_type": "code",
      "metadata": {
        "colab": {
          "base_uri": "https://localhost:8080/"
        },
        "id": "OOXZ5GfM1Gp9",
        "outputId": "c6a60d3f-be47-4ba0-8cb4-4c57c9a5f10b"
      },
      "source": [
        "data = []\n",
        "for utterance, intent in sentences:\n",
        "  temp = paraphrases(utterance)\n",
        "  for t in temp:\n",
        "    data.append((t, intent, utterance))"
      ],
      "execution_count": 61,
      "outputs": [
        {
          "output_type": "stream",
          "text": [
            "/usr/local/lib/python3.7/dist-packages/transformers/tokenization_utils_base.py:2079: FutureWarning: The `pad_to_max_length` argument is deprecated and will be removed in a future version, use `padding=True` or `padding='longest'` to pad to the longest sequence in the batch, or use `padding='max_length'` to pad to a max length. In this case, you can give a specific length with `max_length` (e.g. `max_length=45`) or leave max_length to None to pad to the maximal input size of the model (e.g. 512 for Bert).\n",
            "  FutureWarning,\n",
            "/usr/local/lib/python3.7/dist-packages/transformers/models/t5/tokenization_t5.py:175: UserWarning: This sequence already has </s>. In future versions this behavior may lead to duplicated eos tokens being added.\n",
            "  f\"This sequence already has {self.eos_token}. In future versions this behavior may lead to duplicated eos tokens being added.\"\n"
          ],
          "name": "stderr"
        }
      ]
    },
    {
      "cell_type": "code",
      "metadata": {
        "id": "XZ-Apbfx3oC_"
      },
      "source": [
        "finalData = pd.DataFrame.from_records(data, columns =['new_utt', 'intent', 'original_utt'])"
      ],
      "execution_count": 62,
      "outputs": []
    },
    {
      "cell_type": "code",
      "metadata": {
        "colab": {
          "base_uri": "https://localhost:8080/",
          "height": 979
        },
        "id": "_BdvXT035bMy",
        "outputId": "2343760a-eefc-45e7-926b-52028fce50f4"
      },
      "source": [
        "finalData.sample(30)"
      ],
      "execution_count": 63,
      "outputs": [
        {
          "output_type": "execute_result",
          "data": {
            "text/html": [
              "<div>\n",
              "<style scoped>\n",
              "    .dataframe tbody tr th:only-of-type {\n",
              "        vertical-align: middle;\n",
              "    }\n",
              "\n",
              "    .dataframe tbody tr th {\n",
              "        vertical-align: top;\n",
              "    }\n",
              "\n",
              "    .dataframe thead th {\n",
              "        text-align: right;\n",
              "    }\n",
              "</style>\n",
              "<table border=\"1\" class=\"dataframe\">\n",
              "  <thead>\n",
              "    <tr style=\"text-align: right;\">\n",
              "      <th></th>\n",
              "      <th>new_utt</th>\n",
              "      <th>intent</th>\n",
              "      <th>original_utt</th>\n",
              "    </tr>\n",
              "  </thead>\n",
              "  <tbody>\n",
              "    <tr>\n",
              "      <th>653</th>\n",
              "      <td>What is a physical address where you will be p...</td>\n",
              "      <td>tour_inquiry_pick_up</td>\n",
              "      <td>Is there a physical address where we will be p...</td>\n",
              "    </tr>\n",
              "    <tr>\n",
              "      <th>377</th>\n",
              "      <td>Should I send an email to support about reserv...</td>\n",
              "      <td>reservation_update_request</td>\n",
              "      <td>I sent an email to support about reservation &lt;...</td>\n",
              "    </tr>\n",
              "    <tr>\n",
              "      <th>41</th>\n",
              "      <td>I need keyword&gt; tickets for date&gt;. I need keyw...</td>\n",
              "      <td>book_tour</td>\n",
              "      <td>I need &lt;keyword&gt; tickets for &lt;date&gt;</td>\n",
              "    </tr>\n",
              "    <tr>\n",
              "      <th>138</th>\n",
              "      <td>What should I do with time?</td>\n",
              "      <td>recommend_activity</td>\n",
              "      <td>What should I do &lt;time&gt;?</td>\n",
              "    </tr>\n",
              "    <tr>\n",
              "      <th>547</th>\n",
              "      <td>Does a keyword in a location have this key?</td>\n",
              "      <td>tour_available</td>\n",
              "      <td>Do you have this &lt;keyword&gt; in &lt;location&gt;?</td>\n",
              "    </tr>\n",
              "    <tr>\n",
              "      <th>345</th>\n",
              "      <td>Which one confirms reservation when we pay?</td>\n",
              "      <td>reservation_regulations</td>\n",
              "      <td>Is this a confirmed reservation if we pay?</td>\n",
              "    </tr>\n",
              "    <tr>\n",
              "      <th>324</th>\n",
              "      <td>I need bill copy for purchases made by my boss...</td>\n",
              "      <td>reservation_inquiry</td>\n",
              "      <td>I need the bill copy of a purchase made by my ...</td>\n",
              "    </tr>\n",
              "    <tr>\n",
              "      <th>622</th>\n",
              "      <td>What is happened if I don't get reservation on...</td>\n",
              "      <td>tour_inquiry</td>\n",
              "      <td>What happens if I don't get the reservation on...</td>\n",
              "    </tr>\n",
              "    <tr>\n",
              "      <th>261</th>\n",
              "      <td>How can you show me a less crowded location if...</td>\n",
              "      <td>recommend_poi</td>\n",
              "      <td>Show me less crowded locations</td>\n",
              "    </tr>\n",
              "    <tr>\n",
              "      <th>133</th>\n",
              "      <td>What can I do in location time?</td>\n",
              "      <td>recommend_activity</td>\n",
              "      <td>What can I do in &lt;location&gt; &lt;time&gt;?</td>\n",
              "    </tr>\n",
              "    <tr>\n",
              "      <th>576</th>\n",
              "      <td>What is a tour_parameter&gt; of Tour?</td>\n",
              "      <td>tour_inquiry</td>\n",
              "      <td>What is &lt;tour_parameter&gt; of &lt;keyword&gt; tour?</td>\n",
              "    </tr>\n",
              "    <tr>\n",
              "      <th>251</th>\n",
              "      <td>Show me hidden gems. I'm not a serious game of...</td>\n",
              "      <td>recommend_poi</td>\n",
              "      <td>Show me hidden gems</td>\n",
              "    </tr>\n",
              "    <tr>\n",
              "      <th>289</th>\n",
              "      <td>Which restaurant is worth visiting?</td>\n",
              "      <td>recommend_poi</td>\n",
              "      <td>Top recommended &lt;keyword&gt; restaurant</td>\n",
              "    </tr>\n",
              "    <tr>\n",
              "      <th>483</th>\n",
              "      <td>keyword&gt; available between date&gt; to date&gt;?</td>\n",
              "      <td>tour_available</td>\n",
              "      <td>&lt;keyword&gt; available between &lt;date&gt; to &lt;date&gt;?</td>\n",
              "    </tr>\n",
              "    <tr>\n",
              "      <th>215</th>\n",
              "      <td>Show me the most adjective&gt; sites on tourmega.</td>\n",
              "      <td>recommend_activity, recommend_poi</td>\n",
              "      <td>Show me the most &lt;adjective&gt; sites on tourmega</td>\n",
              "    </tr>\n",
              "    <tr>\n",
              "      <th>625</th>\n",
              "      <td>Can I refund the charge?</td>\n",
              "      <td>tour_inquiry</td>\n",
              "      <td>Do you refund the charge?</td>\n",
              "    </tr>\n",
              "    <tr>\n",
              "      <th>520</th>\n",
              "      <td>What dates is the keyword&gt; tour available?</td>\n",
              "      <td>tour_available</td>\n",
              "      <td>What dates is the &lt;keyword&gt; tour available in ...</td>\n",
              "    </tr>\n",
              "    <tr>\n",
              "      <th>212</th>\n",
              "      <td>What is fun around here?</td>\n",
              "      <td>recommend_activity, recommend_poi</td>\n",
              "      <td>What's fun around here?</td>\n",
              "    </tr>\n",
              "    <tr>\n",
              "      <th>30</th>\n",
              "      <td>How can I buy tickets for keyword&gt; time&gt; for n...</td>\n",
              "      <td>book_tour</td>\n",
              "      <td>I wanna buy tickets for &lt;keyword&gt; &lt;time&gt; for &lt;...</td>\n",
              "    </tr>\n",
              "    <tr>\n",
              "      <th>532</th>\n",
              "      <td>How soon is keyword&gt; tour available?</td>\n",
              "      <td>tour_available</td>\n",
              "      <td>When is the &lt;keyword&gt; tour available in &lt;month&gt;?</td>\n",
              "    </tr>\n",
              "    <tr>\n",
              "      <th>688</th>\n",
              "      <td>What are new tours on Tours?</td>\n",
              "      <td>tour_offer</td>\n",
              "      <td>We have new tours available</td>\n",
              "    </tr>\n",
              "    <tr>\n",
              "      <th>86</th>\n",
              "      <td>What are the best things to do in location&gt;?</td>\n",
              "      <td>describe_location, recommend_poi</td>\n",
              "      <td>What are the top things to do in &lt;location&gt;?</td>\n",
              "    </tr>\n",
              "    <tr>\n",
              "      <th>456</th>\n",
              "      <td>Is this keyword ready?</td>\n",
              "      <td>tour_available</td>\n",
              "      <td>Is &lt;keyword&gt; available &lt;location&gt; &lt;time&gt;?</td>\n",
              "    </tr>\n",
              "    <tr>\n",
              "      <th>110</th>\n",
              "      <td>How is hello everyone?</td>\n",
              "      <td>needs_assistance</td>\n",
              "      <td>Hello? Are you here?</td>\n",
              "    </tr>\n",
              "    <tr>\n",
              "      <th>557</th>\n",
              "      <td>I booked a tour confirmation code confirmation...</td>\n",
              "      <td>tour_cancel</td>\n",
              "      <td>I booked a tour confirmation code &lt;confirmatio...</td>\n",
              "    </tr>\n",
              "    <tr>\n",
              "      <th>130</th>\n",
              "      <td>What is the contact information of a doctor?</td>\n",
              "      <td>needs_assistance</td>\n",
              "      <td>What is the contact info?</td>\n",
              "    </tr>\n",
              "    <tr>\n",
              "      <th>380</th>\n",
              "      <td>I have an application for reservation in Rajas...</td>\n",
              "      <td>reservation_update_request</td>\n",
              "      <td>I am trying to figure out if my reservation is...</td>\n",
              "    </tr>\n",
              "    <tr>\n",
              "      <th>448</th>\n",
              "      <td>Can I make reservation for restaurant without ...</td>\n",
              "      <td>restaurant_reservation_regulations</td>\n",
              "      <td>Hi, if I would like to make a reservation to &lt;...</td>\n",
              "    </tr>\n",
              "    <tr>\n",
              "      <th>31</th>\n",
              "      <td>I want to get tickets by keyword&gt;. I am using ...</td>\n",
              "      <td>book_tour</td>\n",
              "      <td>I want tickets for &lt;keyword&gt;.</td>\n",
              "    </tr>\n",
              "    <tr>\n",
              "      <th>401</th>\n",
              "      <td>Does any restaurant have booster seats?</td>\n",
              "      <td>restaurant_inquiry</td>\n",
              "      <td>Does &lt;restaurant&gt; have booster seats for kids?</td>\n",
              "    </tr>\n",
              "  </tbody>\n",
              "</table>\n",
              "</div>"
            ],
            "text/plain": [
              "                                               new_utt  ...                                       original_utt\n",
              "653  What is a physical address where you will be p...  ...  Is there a physical address where we will be p...\n",
              "377  Should I send an email to support about reserv...  ...  I sent an email to support about reservation <...\n",
              "41   I need keyword> tickets for date>. I need keyw...  ...                I need <keyword> tickets for <date>\n",
              "138                        What should I do with time?  ...                           What should I do <time>?\n",
              "547        Does a keyword in a location have this key?  ...          Do you have this <keyword> in <location>?\n",
              "345        Which one confirms reservation when we pay?  ...         Is this a confirmed reservation if we pay?\n",
              "324  I need bill copy for purchases made by my boss...  ...  I need the bill copy of a purchase made by my ...\n",
              "622  What is happened if I don't get reservation on...  ...  What happens if I don't get the reservation on...\n",
              "261  How can you show me a less crowded location if...  ...                     Show me less crowded locations\n",
              "133                    What can I do in location time?  ...                What can I do in <location> <time>?\n",
              "576                 What is a tour_parameter> of Tour?  ...        What is <tour_parameter> of <keyword> tour?\n",
              "251  Show me hidden gems. I'm not a serious game of...  ...                                Show me hidden gems\n",
              "289                Which restaurant is worth visiting?  ...               Top recommended <keyword> restaurant\n",
              "483         keyword> available between date> to date>?  ...      <keyword> available between <date> to <date>?\n",
              "215     Show me the most adjective> sites on tourmega.  ...     Show me the most <adjective> sites on tourmega\n",
              "625                           Can I refund the charge?  ...                          Do you refund the charge?\n",
              "520         What dates is the keyword> tour available?  ...  What dates is the <keyword> tour available in ...\n",
              "212                           What is fun around here?  ...                            What's fun around here?\n",
              "30   How can I buy tickets for keyword> time> for n...  ...  I wanna buy tickets for <keyword> <time> for <...\n",
              "532               How soon is keyword> tour available?  ...   When is the <keyword> tour available in <month>?\n",
              "688                       What are new tours on Tours?  ...                        We have new tours available\n",
              "86        What are the best things to do in location>?  ...       What are the top things to do in <location>?\n",
              "456                             Is this keyword ready?  ...          Is <keyword> available <location> <time>?\n",
              "110                             How is hello everyone?  ...                               Hello? Are you here?\n",
              "557  I booked a tour confirmation code confirmation...  ...  I booked a tour confirmation code <confirmatio...\n",
              "130       What is the contact information of a doctor?  ...                          What is the contact info?\n",
              "380  I have an application for reservation in Rajas...  ...  I am trying to figure out if my reservation is...\n",
              "448  Can I make reservation for restaurant without ...  ...  Hi, if I would like to make a reservation to <...\n",
              "31   I want to get tickets by keyword>. I am using ...  ...                      I want tickets for <keyword>.\n",
              "401            Does any restaurant have booster seats?  ...     Does <restaurant> have booster seats for kids?\n",
              "\n",
              "[30 rows x 3 columns]"
            ]
          },
          "metadata": {
            "tags": []
          },
          "execution_count": 63
        }
      ]
    },
    {
      "cell_type": "code",
      "metadata": {
        "colab": {
          "base_uri": "https://localhost:8080/"
        },
        "id": "VixyHLD42Emu",
        "outputId": "dee7fb2f-15c9-4be7-8c8a-325e808f94d2"
      },
      "source": [
        "import gc\n",
        "\n",
        "gc.collect()"
      ],
      "execution_count": 60,
      "outputs": [
        {
          "output_type": "execute_result",
          "data": {
            "text/plain": [
              "3568"
            ]
          },
          "metadata": {
            "tags": []
          },
          "execution_count": 60
        }
      ]
    },
    {
      "cell_type": "code",
      "metadata": {
        "id": "4HMgx-cR58Ow"
      },
      "source": [
        "finalData.to_csv(\"SemanticSimilar.csv\")"
      ],
      "execution_count": 64,
      "outputs": []
    }
  ]
}